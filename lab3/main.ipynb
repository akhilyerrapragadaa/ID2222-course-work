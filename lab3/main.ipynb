{
 "cells": [
  {
   "cell_type": "code",
   "execution_count": 1,
   "metadata": {},
   "outputs": [],
   "source": [
    "import matplotlib.pyplot as plt\n",
    "import time\n",
    "import random"
   ]
  },
  {
   "cell_type": "code",
   "execution_count": 2,
   "metadata": {},
   "outputs": [],
   "source": [
    "class Edge:\n",
    "    def __init__(self, frm, to) -> None:\n",
    "        # the smaller edge is alway 'from', while the greater is always 'to'\n",
    "        self.frm, self.to = (frm, to) if frm < to else (to, frm)"
   ]
  },
  {
   "cell_type": "code",
   "execution_count": 3,
   "metadata": {},
   "outputs": [],
   "source": [
    "class TRIEST_base:\n",
    "    def __init__(self, m: int=100) -> None:\n",
    "        if m < 6:\n",
    "            raise Exception('M is <6')\n",
    "        self.t = 0 # time t incremented evety time we receive an edge\n",
    "        self.tau = 0 #global counter τ for the estimation of the global number of triangles.\n",
    "        self.edge_sample = set() #sample\n",
    "        self.m = m #memory: max number of edges to keep\n",
    "        self.counters = {} #to compute estimations of the global and local number of triangles\n",
    "\n",
    "    # Does the reservior sampling\n",
    "    def sample_edge(self, edge):\n",
    "\n",
    "        def flip_biased_coin() -> bool:\n",
    "            return random.random() <= (self.m/self.t)\n",
    "\n",
    "        if self.t < self.m:\n",
    "            return True\n",
    "        elif flip_biased_coin():\n",
    "            unlucky_element = random.sample(self.edge_sample, 1)[0]\n",
    "            self.edge_sample.remove(unlucky_element)\n",
    "            # self.update_counters('remove', edge)\n",
    "            self.update_counters('remove', unlucky_element)\n",
    "            return True\n",
    "        return False\n",
    "\n",
    "    def update_counters(self, operation, edge: Edge):\n",
    "        s1 = set()\n",
    "        s2 = set()\n",
    "        for element in self.edge_sample:\n",
    "            if element.frm == edge.frm:\n",
    "                s1.add(element.to)\n",
    "            if element.to == edge.frm:\n",
    "                s1.add(element.frm)\n",
    "            if element.frm == edge.to:\n",
    "                s2.add(element.to)\n",
    "            if element.to == edge.to:\n",
    "                s2.add(element.frm)\n",
    "        # vertex is the overlap between s1 and s2\n",
    "        for vertex in (s1 & s2):\n",
    "            if operation == 'add':\n",
    "                self.tau += 1\n",
    "                self.counters[vertex] = self.counters.get(vertex, 0) + 1\n",
    "                self.counters[edge.frm] = self.counters.get(edge.frm, 0) + 1\n",
    "                self.counters[edge.to] = self.counters.get(edge.to, 0) + 1\n",
    "            elif operation == 'remove':\n",
    "                self.tau -= 1\n",
    "                self.counters[vertex] = self.counters.get(vertex, 0) - 1\n",
    "                self.counters[edge.frm] = self.counters.get(edge.frm, 0) - 1\n",
    "                self.counters[edge.to] = self.counters.get(edge.to, 0) - 1\n",
    "                if self.counters[vertex] <= 0:\n",
    "                    del self.counters[vertex]\n",
    "                    del self.counters[edge.frm]\n",
    "                    del self.counters[edge.to]\n",
    "\n",
    "\n",
    "    def algo_start(self, edge_stream):\n",
    "        for edge in edge_stream:\n",
    "            self.t += 1\n",
    "            if self.sample_edge(edge):\n",
    "            # if self.sample_edge():\n",
    "                self.edge_sample.add(edge)\n",
    "                self.update_counters('add', edge)\n",
    "        est = max([1, (self.t*(self.t-1)*(self.t-2))/(self.m*(self.m-1)*(self.m-2))])\n",
    "        return self.tau * est\n"
   ]
  },
  {
   "cell_type": "code",
   "execution_count": 4,
   "metadata": {},
   "outputs": [],
   "source": [
    "class TRIEST_improved:\n",
    "    def __init__(self, m: int=100) -> None:\n",
    "        if m < 6:\n",
    "            raise Exception('M is <6')\n",
    "        self.t = 0\n",
    "        self.tau = 0\n",
    "        self.edge_sample = set()\n",
    "        self.m = m\n",
    "        self.counters = {}\n",
    "\n",
    "    # def sample_edge(self):\n",
    "    def sample_edge(self, edge):\n",
    "\n",
    "        def flip_biased_coin() -> bool:\n",
    "            return random.random() <= (self.m/self.t)\n",
    "\n",
    "        if self.t < self.m:\n",
    "            return True\n",
    "        elif flip_biased_coin():\n",
    "            unlucky_element = random.sample(self.edge_sample, 1)[0]\n",
    "            self.edge_sample.remove(unlucky_element)\n",
    "            return True\n",
    "        return False\n",
    "\n",
    "    def update_counters(self, edge: Edge):\n",
    "        s1 = set()\n",
    "        s2 = set()\n",
    "        for element in self.edge_sample:\n",
    "            if element.frm == edge.frm:\n",
    "                s1.add(element.to)\n",
    "            if element.to == edge.frm:\n",
    "                s1.add(element.frm)\n",
    "            if element.frm == edge.to:\n",
    "                s2.add(element.to)\n",
    "            if element.to == edge.to:\n",
    "                s2.add(element.frm)\n",
    "        # vertex is the overlap between s1 and s2\n",
    "        for vertex in (s1 & s2):\n",
    "            weight = max([1, (self.t-1)*(self.t-2)/self.m/(self.m-1)])\n",
    "            self.tau += weight\n",
    "            self.counters[vertex] = self.counters.get(vertex, 0) + weight\n",
    "            self.counters[edge.frm] = self.counters.get(edge.frm, 0) + weight\n",
    "            self.counters[edge.to] = self.counters.get(edge.to, 0) + weight\n",
    "\n",
    "\n",
    "    def algo_start(self, edge_stream):\n",
    "        for edge in edge_stream:\n",
    "            self.t += 1\n",
    "            self.update_counters(edge)\n",
    "            if self.sample_edge(edge):\n",
    "                self.edge_sample.add(edge)\n",
    "        return self.tau"
   ]
  },
  {
   "cell_type": "code",
   "execution_count": 5,
   "metadata": {},
   "outputs": [],
   "source": [
    "test_set = set()\n",
    "with open('data_a_lot.txt') as f:\n",
    "    for line in f:\n",
    "        content = line.split()\n",
    "        # get rid of duplicates\n",
    "        if content[0] != content[1]:\n",
    "            test_set.add(Edge(content[0], content[1]))"
   ]
  },
  {
   "cell_type": "code",
   "execution_count": 6,
   "metadata": {},
   "outputs": [
    {
     "name": "stdout",
     "output_type": "stream",
     "text": [
      "Testing TRIEST base:\n",
      "test_set length: 88234\n",
      "Expected value: 2066894.7530409289\n",
      "True value: 1611972\n",
      "Difference: 28 %\n"
     ]
    },
    {
     "data": {
      "image/png": "[encoded data removed]",
      "text/plain": [
       "<Figure size 432x288 with 1 Axes>"
      ]
     },
     "metadata": {
      "needs_background": "light"
     },
     "output_type": "display_data"
    }
   ],
   "source": [
    "# TRIEST base\n",
    "print('Testing TRIEST base:')\n",
    "sample_size = 1000\n",
    "print('test_set length:', len(test_set))\n",
    "expected = TRIEST_base(sample_size).algo_start(test_set)\n",
    "print('Expected value:', expected)\n",
    "start = time.time()\n",
    "true = TRIEST_base(len(test_set)).algo_start(test_set)\n",
    "exec_time = time.time() - start\n",
    "print('True value:', true)\n",
    "print('Difference:', round(abs(expected - true) / true * 100), '%')\n",
    "\n",
    "sizes = [300, 600, 900, 1200, 1500, 1800, 2100]\n",
    "values = []\n",
    "times = []\n",
    "true_values = [true for _ in range(len(sizes))]\n",
    "true_times = [exec_time for _ in range(len(sizes))]\n",
    "\n",
    "for size in sizes:\n",
    "    start = time.time()\n",
    "    expected = TRIEST_base(size).algo_start(test_set)\n",
    "    end = time.time()\n",
    "    times.append(end-start)\n",
    "    values.append(round(expected))\n",
    "\n",
    "plt.title('TRIEST basic')\n",
    "plt.plot(sizes, values)\n",
    "plt.plot(sizes, true_values)\n",
    "plt.ylabel('Number of triangles')\n",
    "plt.xticks(sizes)\n",
    "plt.grid(True)\n",
    "plt.savefig('base_number_of_triangles.png')\n",
    "\n",
    "plt.clf()\n",
    "plt.title('TRIEST basic')\n",
    "plt.plot(sizes, times)\n",
    "# plt.plot(sizes, true_times)\n",
    "plt.ylabel('Time (seconds)')\n",
    "plt.xticks(sizes)\n",
    "plt.grid(True)\n",
    "plt.savefig('base_times.png')"
   ]
  },
  {
   "cell_type": "code",
   "execution_count": 7,
   "metadata": {
    "scrolled": true
   },
   "outputs": [
    {
     "name": "stdout",
     "output_type": "stream",
     "text": [
      "Testing TRIEST improved:\n",
      "test_set length: 88234\n",
      "Expected value: 1405616.6091871876\n",
      "True value: 1612010\n",
      "Difference: 13 %\n"
     ]
    },
    {
     "data": {
      "image/png": "[encoded data removed]",
      "text/plain": [
       "<Figure size 432x288 with 1 Axes>"
      ]
     },
     "metadata": {
      "needs_background": "light"
     },
     "output_type": "display_data"
    }
   ],
   "source": [
    "################################################################################\n",
    "# TRIEST improved\n",
    "print('Testing TRIEST improved:')\n",
    "sample_size = 1000\n",
    "print('test_set length:', len(test_set))\n",
    "expected = TRIEST_improved(sample_size).algo_start(test_set)\n",
    "print('Expected value:', expected)\n",
    "start = time.time()\n",
    "true = TRIEST_improved(len(test_set)).algo_start(test_set)\n",
    "exec_time = time.time() - start\n",
    "print('True value:', true)\n",
    "print('Difference:', round(abs(expected - true) / true * 100), '%')\n",
    "\n",
    "sizes = [300, 600, 900, 1200, 1500, 1800, 2100]\n",
    "values = []\n",
    "times = []\n",
    "true_values = [true for _ in range(len(sizes))]\n",
    "true_times = [exec_time for _ in range(len(sizes))]\n",
    "\n",
    "for size in sizes:\n",
    "    start = time.time()\n",
    "    expected = TRIEST_improved(size).algo_start(test_set)\n",
    "    end = time.time()\n",
    "    times.append(end-start)\n",
    "    values.append(round(expected))\n",
    "\n",
    "plt.clf()\n",
    "plt.title('TRIEST improved')\n",
    "plt.plot(sizes, values)\n",
    "plt.plot(sizes, true_values)\n",
    "plt.ylabel('Number of triangles')\n",
    "plt.xticks(sizes)\n",
    "plt.grid(True)\n",
    "plt.savefig('improved_number_of_triangles.png')\n",
    "\n",
    "plt.clf()\n",
    "plt.title('TRIEST improved')\n",
    "plt.plot(sizes, times)\n",
    "plt.plot(sizes, true_times)\n",
    "plt.ylabel('Time (seconds)')\n",
    "plt.xticks(sizes)\n",
    "plt.grid(True)\n",
    "plt.savefig('improved_times.png')"
   ]
  },
  {
   "cell_type": "code",
   "execution_count": null,
   "metadata": {},
   "outputs": [
    {
     "name": "stdout",
     "output_type": "stream",
     "text": [
      "Testing TRIEST base:\n",
      "test_set length: 2312497\n",
      "Expected value: 55933687575.48788\n"
     ]
    }
   ],
   "source": [
    "################################################################################\n",
    "# TRIEST base big dataset\n",
    "test_set = set()\n",
    "with open('web-Stanford.txt') as f:\n",
    "    for line in f:\n",
    "        content = line.split()\n",
    "        if content[0] != content[1]:\n",
    "            test_set.add(Edge(content[0], content[1]))\n",
    "\n",
    "print('Testing TRIEST base:')\n",
    "sample_size = 3000\n",
    "print('test_set length:', len(test_set))\n",
    "expected = TRIEST_base(sample_size).algo_start(test_set)\n",
    "print('Expected value:', expected)\n",
    "true_value = TRIEST_base(len(test_set)).algo_start(test_set)\n",
    "print('True Value: ', true_value)\n",
    "print('Difference:', round(abs(expected - true_value) / true_value * 100), '%')"
   ]
  }
 ],
 "metadata": {
  "kernelspec": {
   "display_name": "Python 3",
   "language": "python",
   "name": "python3"
  },
  "language_info": {
   "codemirror_mode": {
    "name": "ipython",
    "version": 3
   },
   "file_extension": ".py",
   "mimetype": "text/x-python",
   "name": "python",
   "nbconvert_exporter": "python",
   "pygments_lexer": "ipython3",
   "version": "3.6.9"
  }
 },
 "nbformat": 4,
 "nbformat_minor": 4
}
